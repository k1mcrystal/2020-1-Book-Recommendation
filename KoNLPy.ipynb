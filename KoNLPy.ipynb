{
 "cells": [
  {
   "cell_type": "code",
   "execution_count": 1,
   "metadata": {},
   "outputs": [],
   "source": [
    "import pandas as pd\n",
    "import konlpy"
   ]
  },
  {
   "cell_type": "code",
   "execution_count": 2,
   "metadata": {},
   "outputs": [],
   "source": [
    "kkma=konlpy.tag.Kkma()\n",
    "okt=konlpy.tag.Okt()\n",
    "han=konlpy.tag.Hannanum()"
   ]
  },
  {
   "cell_type": "markdown",
   "metadata": {},
   "source": [
    "## 1. Merge data"
   ]
  },
  {
   "cell_type": "code",
   "execution_count": 3,
   "metadata": {},
   "outputs": [],
   "source": [
    "df1 = pd.read_csv('Book_90020001.csv')\n",
    "df2 = pd.read_csv('Book_90040001.csv')\n",
    "df3 = pd.read_csv('Book_90060000.csv')"
   ]
  },
  {
   "cell_type": "code",
   "execution_count": 4,
   "metadata": {},
   "outputs": [],
   "source": [
    "df = pd.concat([df1, df2, df3], ignore_index = True)"
   ]
  },
  {
   "cell_type": "code",
   "execution_count": 5,
   "metadata": {
    "scrolled": true
   },
   "outputs": [
    {
     "data": {
      "text/html": [
       "<div>\n",
       "<style scoped>\n",
       "    .dataframe tbody tr th:only-of-type {\n",
       "        vertical-align: middle;\n",
       "    }\n",
       "\n",
       "    .dataframe tbody tr th {\n",
       "        vertical-align: top;\n",
       "    }\n",
       "\n",
       "    .dataframe thead th {\n",
       "        text-align: right;\n",
       "    }\n",
       "</style>\n",
       "<table border=\"1\" class=\"dataframe\">\n",
       "  <thead>\n",
       "    <tr style=\"text-align: right;\">\n",
       "      <th></th>\n",
       "      <th>Name</th>\n",
       "      <th>Story</th>\n",
       "      <th>Author</th>\n",
       "    </tr>\n",
       "  </thead>\n",
       "  <tbody>\n",
       "    <tr>\n",
       "      <th>0</th>\n",
       "      <td>외눈박이 물고기의 사랑</td>\n",
       "      <td>\\n\\r\\n시인이자 명상가, 번역가로 활동중인 류시화의 두번째 시집. 일상 언어들을...</td>\n",
       "      <td>\\n류시화 저\\r\\n</td>\n",
       "    </tr>\n",
       "    <tr>\n",
       "      <th>1</th>\n",
       "      <td>지금 알고 있는 걸 그때도 알았더라면</td>\n",
       "      <td>\\n\\r\\n20여 년간 명상과 인간의식 진화에 대한 번역서를 소개하면서 시를 써온 ...</td>\n",
       "      <td>\\n류시화 저\\r\\n</td>\n",
       "    </tr>\n",
       "    <tr>\n",
       "      <th>2</th>\n",
       "      <td>연인</td>\n",
       "      <td>\\n\\r\\n우리들 가슴 어딘가에 감추어져 있는 진정한 사랑의 풍경소리를 찾아가는 푸...</td>\n",
       "      <td>\\n정호승 저\\r\\n</td>\n",
       "    </tr>\n",
       "    <tr>\n",
       "      <th>3</th>\n",
       "      <td>연인</td>\n",
       "      <td>\\n\\r\\n우리들 가슴 어딘가에 감추어져 있는 진정한 사랑의 풍경소리를 찾아가는 푸...</td>\n",
       "      <td>\\n정호승 저\\r\\n</td>\n",
       "    </tr>\n",
       "    <tr>\n",
       "      <th>4</th>\n",
       "      <td>섬진강 이야기1</td>\n",
       "      <td>\\n\\r\\n남도 5백 리 길 세 개의 도와 열두 개의 군을 거쳐 지나가며 사람들의 ...</td>\n",
       "      <td>\\n김용택 저\\r\\n</td>\n",
       "    </tr>\n",
       "    <tr>\n",
       "      <th>...</th>\n",
       "      <td>...</td>\n",
       "      <td>...</td>\n",
       "      <td>...</td>\n",
       "    </tr>\n",
       "    <tr>\n",
       "      <th>38230</th>\n",
       "      <td>메이즈 러너 일반 케이스 : 블루레이</td>\n",
       "      <td>\\n\\r\\n- 음성 해설과 HD 화질의 스페셜 피쳐에 한글 자막 지원 &amp; 한글 메뉴...</td>\n",
       "      <td>\\r\\n            감독:웨스 볼 출연:딜런 오브라이언,  토마스 생스터,...</td>\n",
       "    </tr>\n",
       "    <tr>\n",
       "      <th>38231</th>\n",
       "      <td>2020년 정품 - 중학교 영어 2 자습서 (정사열 / 천재교육)(2020년) 20...</td>\n",
       "      <td>\\n\\r\\n                                    \\n</td>\n",
       "      <td>\\r\\n            정사열\\r\\n</td>\n",
       "    </tr>\n",
       "    <tr>\n",
       "      <th>38232</th>\n",
       "      <td>원어연구해설 4 : 사도행전</td>\n",
       "      <td>\\n\\r\\n646쪽, 신국판, 약간 바랬으나 양호함                  ...</td>\n",
       "      <td>\\r\\n            번역위원회\\r\\n</td>\n",
       "    </tr>\n",
       "    <tr>\n",
       "      <th>38233</th>\n",
       "      <td>우리 역사 최전선</td>\n",
       "      <td>\\n\\r\\n우선 박노자 · 허동현 두 사람은 적이 아니다. 그럼에도 “맞서고 있는 ...</td>\n",
       "      <td>\\n허동현 저\\r\\n</td>\n",
       "    </tr>\n",
       "    <tr>\n",
       "      <th>38234</th>\n",
       "      <td>대승 불교의 세계</td>\n",
       "      <td>\\n\\r\\n저자가 대학에서 『대승기신론』을 강의 하면서 일반불자들도 부담 없이 다가...</td>\n",
       "      <td>\\r\\n            계환 저\\r\\n</td>\n",
       "    </tr>\n",
       "  </tbody>\n",
       "</table>\n",
       "<p>38235 rows × 3 columns</p>\n",
       "</div>"
      ],
      "text/plain": [
       "                                                    Name  \\\n",
       "0                                           외눈박이 물고기의 사랑   \n",
       "1                                   지금 알고 있는 걸 그때도 알았더라면   \n",
       "2                                                     연인   \n",
       "3                                                     연인   \n",
       "4                                               섬진강 이야기1   \n",
       "...                                                  ...   \n",
       "38230                               메이즈 러너 일반 케이스 : 블루레이   \n",
       "38231  2020년 정품 - 중학교 영어 2 자습서 (정사열 / 천재교육)(2020년) 20...   \n",
       "38232                                    원어연구해설 4 : 사도행전   \n",
       "38233                                          우리 역사 최전선   \n",
       "38234                                          대승 불교의 세계   \n",
       "\n",
       "                                                   Story  \\\n",
       "0      \\n\\r\\n시인이자 명상가, 번역가로 활동중인 류시화의 두번째 시집. 일상 언어들을...   \n",
       "1      \\n\\r\\n20여 년간 명상과 인간의식 진화에 대한 번역서를 소개하면서 시를 써온 ...   \n",
       "2      \\n\\r\\n우리들 가슴 어딘가에 감추어져 있는 진정한 사랑의 풍경소리를 찾아가는 푸...   \n",
       "3      \\n\\r\\n우리들 가슴 어딘가에 감추어져 있는 진정한 사랑의 풍경소리를 찾아가는 푸...   \n",
       "4      \\n\\r\\n남도 5백 리 길 세 개의 도와 열두 개의 군을 거쳐 지나가며 사람들의 ...   \n",
       "...                                                  ...   \n",
       "38230  \\n\\r\\n- 음성 해설과 HD 화질의 스페셜 피쳐에 한글 자막 지원 & 한글 메뉴...   \n",
       "38231       \\n\\r\\n                                    \\n   \n",
       "38232  \\n\\r\\n646쪽, 신국판, 약간 바랬으나 양호함                  ...   \n",
       "38233  \\n\\r\\n우선 박노자 · 허동현 두 사람은 적이 아니다. 그럼에도 “맞서고 있는 ...   \n",
       "38234  \\n\\r\\n저자가 대학에서 『대승기신론』을 강의 하면서 일반불자들도 부담 없이 다가...   \n",
       "\n",
       "                                                  Author  \n",
       "0                                    \\n류시화 저\\r\\n          \n",
       "1                                    \\n류시화 저\\r\\n          \n",
       "2                                    \\n정호승 저\\r\\n          \n",
       "3                                    \\n정호승 저\\r\\n          \n",
       "4                                    \\n김용택 저\\r\\n          \n",
       "...                                                  ...  \n",
       "38230  \\r\\n            감독:웨스 볼 출연:딜런 오브라이언,  토마스 생스터,...  \n",
       "38231                    \\r\\n            정사열\\r\\n          \n",
       "38232                  \\r\\n            번역위원회\\r\\n          \n",
       "38233                                \\n허동현 저\\r\\n          \n",
       "38234                   \\r\\n            계환 저\\r\\n          \n",
       "\n",
       "[38235 rows x 3 columns]"
      ]
     },
     "execution_count": 5,
     "metadata": {},
     "output_type": "execute_result"
    }
   ],
   "source": [
    "df"
   ]
  },
  {
   "cell_type": "code",
   "execution_count": 150,
   "metadata": {},
   "outputs": [],
   "source": [
    "df.to_csv(\"38235.csv\")"
   ]
  },
  {
   "cell_type": "markdown",
   "metadata": {},
   "source": [
    "## 2. KoNLPy"
   ]
  },
  {
   "cell_type": "code",
   "execution_count": 6,
   "metadata": {},
   "outputs": [],
   "source": [
    "story = df['Story']"
   ]
  },
  {
   "cell_type": "code",
   "execution_count": 7,
   "metadata": {},
   "outputs": [],
   "source": [
    "index = story.index"
   ]
  },
  {
   "cell_type": "code",
   "execution_count": 8,
   "metadata": {},
   "outputs": [
    {
     "data": {
      "text/plain": [
       "'\\n\\r\\n시인이자 명상가, 번역가로 활동중인 류시화의 두번째 시집. 일상 언어들을 사용해 신비한 세계를 빚어낸다는 그의 시는 걸림없이 마음에 걸어들어오면서 결코 쉽고 가볍게 치부할 수 없는 무게로 삶을 잡아낸다. 첫번째 시집에 이어 한층 깊어진 눈빛을 지닌 시세계가 곱씹히고 곱씹힌다.                    \\n'"
      ]
     },
     "execution_count": 8,
     "metadata": {},
     "output_type": "execute_result"
    }
   ],
   "source": [
    "list = []\n",
    "for i in index:\n",
    "    list.append(story[i])\n",
    "list[0]"
   ]
  },
  {
   "cell_type": "code",
   "execution_count": 9,
   "metadata": {
    "scrolled": true
   },
   "outputs": [
    {
     "data": {
      "text/plain": [
       "[('\\n\\r\\n', 'Foreign'),\n",
       " ('시인', 'Noun'),\n",
       " ('이자', 'Noun'),\n",
       " ('명상', 'Noun'),\n",
       " ('가', 'Josa'),\n",
       " (',', 'Punctuation'),\n",
       " ('번역가', 'Noun'),\n",
       " ('로', 'Josa'),\n",
       " ('활동', 'Noun'),\n",
       " ('중', 'Suffix'),\n",
       " ('인', 'Josa'),\n",
       " ('류시화', 'Noun'),\n",
       " ('의', 'Josa'),\n",
       " ('두번째', 'Noun'),\n",
       " ('시집', 'Noun'),\n",
       " ('.', 'Punctuation'),\n",
       " ('일상', 'Noun'),\n",
       " ('언어', 'Noun'),\n",
       " ('들', 'Suffix'),\n",
       " ('을', 'Josa'),\n",
       " ('사용', 'Noun'),\n",
       " ('해', 'Verb'),\n",
       " ('신비한', 'Adjective'),\n",
       " ('세계', 'Noun'),\n",
       " ('를', 'Josa'),\n",
       " ('빚', 'Noun'),\n",
       " ('어', 'Suffix'),\n",
       " ('낸다는', 'Verb'),\n",
       " ('그', 'Noun'),\n",
       " ('의', 'Josa'),\n",
       " ('시', 'Noun'),\n",
       " ('는', 'Josa'),\n",
       " ('걸림', 'Verb'),\n",
       " ('없이', 'Adverb'),\n",
       " ('마음', 'Noun'),\n",
       " ('에', 'Josa'),\n",
       " ('걸어', 'Verb'),\n",
       " ('들어오면서', 'Verb'),\n",
       " ('결코', 'Noun'),\n",
       " ('쉽고', 'Verb'),\n",
       " ('가볍게', 'Adjective'),\n",
       " ('치부', 'Noun'),\n",
       " ('할', 'Verb'),\n",
       " ('수', 'Noun'),\n",
       " ('없는', 'Adjective'),\n",
       " ('무게', 'Noun'),\n",
       " ('로', 'Josa'),\n",
       " ('삶', 'Noun'),\n",
       " ('을', 'Josa'),\n",
       " ('잡아낸다', 'Verb'),\n",
       " ('.', 'Punctuation'),\n",
       " ('첫', 'Noun'),\n",
       " ('번째', 'Suffix'),\n",
       " ('시집', 'Noun'),\n",
       " ('에', 'Josa'),\n",
       " ('이어', 'Verb'),\n",
       " ('한층', 'Noun'),\n",
       " ('깊어진', 'Adjective'),\n",
       " ('눈빛', 'Noun'),\n",
       " ('을', 'Josa'),\n",
       " ('지닌', 'Verb'),\n",
       " ('시', 'Modifier'),\n",
       " ('세계', 'Noun'),\n",
       " ('가', 'Josa'),\n",
       " ('곱씹히고', 'Verb'),\n",
       " ('곱', 'Noun'),\n",
       " ('씹힌다', 'Verb'),\n",
       " ('.', 'Punctuation')]"
      ]
     },
     "execution_count": 9,
     "metadata": {},
     "output_type": "execute_result"
    }
   ],
   "source": [
    "okt.pos(str(list[0]))"
   ]
  },
  {
   "cell_type": "code",
   "execution_count": 10,
   "metadata": {},
   "outputs": [],
   "source": [
    "story_pos = []\n",
    "for i in range(len(story)):\n",
    "    story_pos.append(okt.pos(str(list[i])))"
   ]
  },
  {
   "cell_type": "code",
   "execution_count": 11,
   "metadata": {
    "scrolled": true
   },
   "outputs": [
    {
     "data": {
      "text/plain": [
       "[('\\n\\r\\n', 'Foreign'),\n",
       " ('시인', 'Noun'),\n",
       " ('이자', 'Noun'),\n",
       " ('명상', 'Noun'),\n",
       " ('가', 'Josa'),\n",
       " (',', 'Punctuation'),\n",
       " ('번역가', 'Noun'),\n",
       " ('로', 'Josa'),\n",
       " ('활동', 'Noun'),\n",
       " ('중', 'Suffix'),\n",
       " ('인', 'Josa'),\n",
       " ('류시화', 'Noun'),\n",
       " ('의', 'Josa'),\n",
       " ('두번째', 'Noun'),\n",
       " ('시집', 'Noun'),\n",
       " ('.', 'Punctuation'),\n",
       " ('일상', 'Noun'),\n",
       " ('언어', 'Noun'),\n",
       " ('들', 'Suffix'),\n",
       " ('을', 'Josa'),\n",
       " ('사용', 'Noun'),\n",
       " ('해', 'Verb'),\n",
       " ('신비한', 'Adjective'),\n",
       " ('세계', 'Noun'),\n",
       " ('를', 'Josa'),\n",
       " ('빚', 'Noun'),\n",
       " ('어', 'Suffix'),\n",
       " ('낸다는', 'Verb'),\n",
       " ('그', 'Noun'),\n",
       " ('의', 'Josa'),\n",
       " ('시', 'Noun'),\n",
       " ('는', 'Josa'),\n",
       " ('걸림', 'Verb'),\n",
       " ('없이', 'Adverb'),\n",
       " ('마음', 'Noun'),\n",
       " ('에', 'Josa'),\n",
       " ('걸어', 'Verb'),\n",
       " ('들어오면서', 'Verb'),\n",
       " ('결코', 'Noun'),\n",
       " ('쉽고', 'Verb'),\n",
       " ('가볍게', 'Adjective'),\n",
       " ('치부', 'Noun'),\n",
       " ('할', 'Verb'),\n",
       " ('수', 'Noun'),\n",
       " ('없는', 'Adjective'),\n",
       " ('무게', 'Noun'),\n",
       " ('로', 'Josa'),\n",
       " ('삶', 'Noun'),\n",
       " ('을', 'Josa'),\n",
       " ('잡아낸다', 'Verb'),\n",
       " ('.', 'Punctuation'),\n",
       " ('첫', 'Noun'),\n",
       " ('번째', 'Suffix'),\n",
       " ('시집', 'Noun'),\n",
       " ('에', 'Josa'),\n",
       " ('이어', 'Verb'),\n",
       " ('한층', 'Noun'),\n",
       " ('깊어진', 'Adjective'),\n",
       " ('눈빛', 'Noun'),\n",
       " ('을', 'Josa'),\n",
       " ('지닌', 'Verb'),\n",
       " ('시', 'Modifier'),\n",
       " ('세계', 'Noun'),\n",
       " ('가', 'Josa'),\n",
       " ('곱씹히고', 'Verb'),\n",
       " ('곱', 'Noun'),\n",
       " ('씹힌다', 'Verb'),\n",
       " ('.', 'Punctuation')]"
      ]
     },
     "execution_count": 11,
     "metadata": {},
     "output_type": "execute_result"
    }
   ],
   "source": [
    "story_pos[0]"
   ]
  },
  {
   "cell_type": "markdown",
   "metadata": {},
   "source": [
    "## 3. Noun"
   ]
  },
  {
   "cell_type": "code",
   "execution_count": 12,
   "metadata": {},
   "outputs": [],
   "source": [
    "nouns = []\n",
    "for i in range(len(story_pos)):\n",
    "    list = []\n",
    "    for j in story_pos[i]:\n",
    "        if j[1] == \"Noun\":\n",
    "            list.append(j[0])\n",
    "    nouns.append(list)"
   ]
  },
  {
   "cell_type": "code",
   "execution_count": 13,
   "metadata": {},
   "outputs": [
    {
     "data": {
      "text/plain": [
       "['시인',\n",
       " '이자',\n",
       " '명상',\n",
       " '번역가',\n",
       " '활동',\n",
       " '류시화',\n",
       " '두번째',\n",
       " '시집',\n",
       " '일상',\n",
       " '언어',\n",
       " '사용',\n",
       " '세계',\n",
       " '빚',\n",
       " '그',\n",
       " '시',\n",
       " '마음',\n",
       " '결코',\n",
       " '치부',\n",
       " '수',\n",
       " '무게',\n",
       " '삶',\n",
       " '첫',\n",
       " '시집',\n",
       " '한층',\n",
       " '눈빛',\n",
       " '세계',\n",
       " '곱']"
      ]
     },
     "execution_count": 13,
     "metadata": {},
     "output_type": "execute_result"
    }
   ],
   "source": [
    "nouns[0]"
   ]
  },
  {
   "cell_type": "markdown",
   "metadata": {},
   "source": [
    "## 4. Adjective"
   ]
  },
  {
   "cell_type": "code",
   "execution_count": 14,
   "metadata": {},
   "outputs": [],
   "source": [
    "adjs = []\n",
    "for i in range(len(story_pos)):\n",
    "    list = []\n",
    "    for j in story_pos[i]:\n",
    "        if j[1] == \"Adjective\":\n",
    "            list.append(j[0])\n",
    "    adjs.append(list)"
   ]
  },
  {
   "cell_type": "code",
   "execution_count": 15,
   "metadata": {},
   "outputs": [
    {
     "data": {
      "text/plain": [
       "['신비한', '가볍게', '없는', '깊어진']"
      ]
     },
     "execution_count": 15,
     "metadata": {},
     "output_type": "execute_result"
    }
   ],
   "source": [
    "adjs[0]"
   ]
  },
  {
   "cell_type": "markdown",
   "metadata": {},
   "source": [
    "## 5. To dataframe"
   ]
  },
  {
   "cell_type": "code",
   "execution_count": 16,
   "metadata": {},
   "outputs": [
    {
     "name": "stderr",
     "output_type": "stream",
     "text": [
      "c:\\python\\python36\\lib\\site-packages\\ipykernel_launcher.py:3: SettingWithCopyWarning: \n",
      "A value is trying to be set on a copy of a slice from a DataFrame\n",
      "\n",
      "See the caveats in the documentation: https://pandas.pydata.org/pandas-docs/stable/user_guide/indexing.html#returning-a-view-versus-a-copy\n",
      "  This is separate from the ipykernel package so we can avoid doing imports until\n",
      "c:\\python\\python36\\lib\\site-packages\\pandas\\core\\indexing.py:671: SettingWithCopyWarning: \n",
      "A value is trying to be set on a copy of a slice from a DataFrame\n",
      "\n",
      "See the caveats in the documentation: https://pandas.pydata.org/pandas-docs/stable/user_guide/indexing.html#returning-a-view-versus-a-copy\n",
      "  self._setitem_with_indexer(indexer, value)\n"
     ]
    }
   ],
   "source": [
    "df['Adj'] = 0\n",
    "for i in range(len(df)):\n",
    "    df['Adj'][i] = str(' '.join(adjs[i]))"
   ]
  },
  {
   "cell_type": "code",
   "execution_count": 18,
   "metadata": {},
   "outputs": [
    {
     "name": "stderr",
     "output_type": "stream",
     "text": [
      "c:\\python\\python36\\lib\\site-packages\\ipykernel_launcher.py:3: SettingWithCopyWarning: \n",
      "A value is trying to be set on a copy of a slice from a DataFrame\n",
      "\n",
      "See the caveats in the documentation: https://pandas.pydata.org/pandas-docs/stable/user_guide/indexing.html#returning-a-view-versus-a-copy\n",
      "  This is separate from the ipykernel package so we can avoid doing imports until\n"
     ]
    }
   ],
   "source": [
    "df['Noun'] = 0\n",
    "for i in range(len(df)):\n",
    "    df['Noun'][i] = str(' '.join(nouns[i]))\n",
    "        "
   ]
  },
  {
   "cell_type": "code",
   "execution_count": 19,
   "metadata": {},
   "outputs": [
    {
     "name": "stderr",
     "output_type": "stream",
     "text": [
      "c:\\python\\python36\\lib\\site-packages\\ipykernel_launcher.py:3: SettingWithCopyWarning: \n",
      "A value is trying to be set on a copy of a slice from a DataFrame\n",
      "\n",
      "See the caveats in the documentation: https://pandas.pydata.org/pandas-docs/stable/user_guide/indexing.html#returning-a-view-versus-a-copy\n",
      "  This is separate from the ipykernel package so we can avoid doing imports until\n"
     ]
    }
   ],
   "source": [
    "df['NounAdj'] = 0\n",
    "for i in range(len(df)):\n",
    "    df['NounAdj'][i] = df['Noun'][i] + df['Adj'][i]"
   ]
  },
  {
   "cell_type": "code",
   "execution_count": 20,
   "metadata": {},
   "outputs": [
    {
     "data": {
      "text/html": [
       "<div>\n",
       "<style scoped>\n",
       "    .dataframe tbody tr th:only-of-type {\n",
       "        vertical-align: middle;\n",
       "    }\n",
       "\n",
       "    .dataframe tbody tr th {\n",
       "        vertical-align: top;\n",
       "    }\n",
       "\n",
       "    .dataframe thead th {\n",
       "        text-align: right;\n",
       "    }\n",
       "</style>\n",
       "<table border=\"1\" class=\"dataframe\">\n",
       "  <thead>\n",
       "    <tr style=\"text-align: right;\">\n",
       "      <th></th>\n",
       "      <th>Name</th>\n",
       "      <th>Story</th>\n",
       "      <th>Author</th>\n",
       "      <th>Adj</th>\n",
       "      <th>Noun</th>\n",
       "      <th>NounAdj</th>\n",
       "    </tr>\n",
       "  </thead>\n",
       "  <tbody>\n",
       "    <tr>\n",
       "      <th>0</th>\n",
       "      <td>외눈박이 물고기의 사랑</td>\n",
       "      <td>\\n\\r\\n시인이자 명상가, 번역가로 활동중인 류시화의 두번째 시집. 일상 언어들을...</td>\n",
       "      <td>\\n류시화 저\\r\\n</td>\n",
       "      <td>신비한 가볍게 없는 깊어진</td>\n",
       "      <td>시인 이자 명상 번역가 활동 류시화 두번째 시집 일상 언어 사용 세계 빚 그 시 마...</td>\n",
       "      <td>시인 이자 명상 번역가 활동 류시화 두번째 시집 일상 언어 사용 세계 빚 그 시 마...</td>\n",
       "    </tr>\n",
       "    <tr>\n",
       "      <th>1</th>\n",
       "      <td>지금 알고 있는 걸 그때도 알았더라면</td>\n",
       "      <td>\\n\\r\\n20여 년간 명상과 인간의식 진화에 대한 번역서를 소개하면서 시를 써온 ...</td>\n",
       "      <td>\\n류시화 저\\r\\n</td>\n",
       "      <td>시를 가득한 다양한 새로운 원하는 새로운 냉정한</td>\n",
       "      <td>여 년 명상 인간 의식 진화 대한 번역 를 소개 온 류시화 사랑 잠언 시집 삶 대한...</td>\n",
       "      <td>여 년 명상 인간 의식 진화 대한 번역 를 소개 온 류시화 사랑 잠언 시집 삶 대한...</td>\n",
       "    </tr>\n",
       "    <tr>\n",
       "      <th>2</th>\n",
       "      <td>연인</td>\n",
       "      <td>\\n\\r\\n우리들 가슴 어딘가에 감추어져 있는 진정한 사랑의 풍경소리를 찾아가는 푸...</td>\n",
       "      <td>\\n정호승 저\\r\\n</td>\n",
       "      <td>있는 진정한 만족하지 진정한 깊지만 무겁지만은 있다</td>\n",
       "      <td>우리 가슴 어딘가 사랑 풍경 소리 푸른 툭눈 이야기 운주사 풍경 삶 현재 사랑 못 ...</td>\n",
       "      <td>우리 가슴 어딘가 사랑 풍경 소리 푸른 툭눈 이야기 운주사 풍경 삶 현재 사랑 못 ...</td>\n",
       "    </tr>\n",
       "    <tr>\n",
       "      <th>3</th>\n",
       "      <td>연인</td>\n",
       "      <td>\\n\\r\\n우리들 가슴 어딘가에 감추어져 있는 진정한 사랑의 풍경소리를 찾아가는 푸...</td>\n",
       "      <td>\\n정호승 저\\r\\n</td>\n",
       "      <td>있는 진정한 만족하지 진정한 깊지만 무겁지만은 있다</td>\n",
       "      <td>우리 가슴 어딘가 사랑 풍경 소리 푸른 툭눈 이야기 운주사 풍경 삶 현재 사랑 못 ...</td>\n",
       "      <td>우리 가슴 어딘가 사랑 풍경 소리 푸른 툭눈 이야기 운주사 풍경 삶 현재 사랑 못 ...</td>\n",
       "    </tr>\n",
       "    <tr>\n",
       "      <th>4</th>\n",
       "      <td>섬진강 이야기1</td>\n",
       "      <td>\\n\\r\\n남도 5백 리 길 세 개의 도와 열두 개의 군을 거쳐 지나가며 사람들의 ...</td>\n",
       "      <td>\\n김용택 저\\r\\n</td>\n",
       "      <td>아름다운 있다</td>\n",
       "      <td>남도 백 리 길 세 개 도 개 군 사람 삶 강 우리 뇌리 가장 강 기억 섬진강 사계...</td>\n",
       "      <td>남도 백 리 길 세 개 도 개 군 사람 삶 강 우리 뇌리 가장 강 기억 섬진강 사계...</td>\n",
       "    </tr>\n",
       "    <tr>\n",
       "      <th>...</th>\n",
       "      <td>...</td>\n",
       "      <td>...</td>\n",
       "      <td>...</td>\n",
       "      <td>...</td>\n",
       "      <td>...</td>\n",
       "      <td>...</td>\n",
       "    </tr>\n",
       "    <tr>\n",
       "      <th>38230</th>\n",
       "      <td>메이즈 러너 일반 케이스 : 블루레이</td>\n",
       "      <td>\\n\\r\\n- 음성 해설과 HD 화질의 스페셜 피쳐에 한글 자막 지원 &amp; 한글 메뉴...</td>\n",
       "      <td>\\r\\n            감독:웨스 볼 출연:딜런 오브라이언,  토마스 생스터,...</td>\n",
       "      <td>거대한 독특한 거대한 넘치는 강렬한 탄탄한 미</td>\n",
       "      <td>음성 해설 화질 스페셜 피 한글 자막 지원 한글 메뉴 제공 제작 과정 다큐멘터리 감...</td>\n",
       "      <td>음성 해설 화질 스페셜 피 한글 자막 지원 한글 메뉴 제공 제작 과정 다큐멘터리 감...</td>\n",
       "    </tr>\n",
       "    <tr>\n",
       "      <th>38231</th>\n",
       "      <td>2020년 정품 - 중학교 영어 2 자습서 (정사열 / 천재교육)(2020년) 20...</td>\n",
       "      <td>\\n\\r\\n                                    \\n</td>\n",
       "      <td>\\r\\n            정사열\\r\\n</td>\n",
       "      <td></td>\n",
       "      <td></td>\n",
       "      <td></td>\n",
       "    </tr>\n",
       "    <tr>\n",
       "      <th>38232</th>\n",
       "      <td>원어연구해설 4 : 사도행전</td>\n",
       "      <td>\\n\\r\\n646쪽, 신국판, 약간 바랬으나 양호함                  ...</td>\n",
       "      <td>\\r\\n            번역위원회\\r\\n</td>\n",
       "      <td></td>\n",
       "      <td>쪽 국판 약간 바랬으 양호 함</td>\n",
       "      <td>쪽 국판 약간 바랬으 양호 함</td>\n",
       "    </tr>\n",
       "    <tr>\n",
       "      <th>38233</th>\n",
       "      <td>우리 역사 최전선</td>\n",
       "      <td>\\n\\r\\n우선 박노자 · 허동현 두 사람은 적이 아니다. 그럼에도 “맞서고 있는 ...</td>\n",
       "      <td>\\n허동현 저\\r\\n</td>\n",
       "      <td>아니다 그럼에도 있는 첨예한 격렬한 다를까 있다</td>\n",
       "      <td>우선 박노자 허동현 두 사람 적 맨 앞 전선 제목 택 것 지금 전 우리 근대 시작 ...</td>\n",
       "      <td>우선 박노자 허동현 두 사람 적 맨 앞 전선 제목 택 것 지금 전 우리 근대 시작 ...</td>\n",
       "    </tr>\n",
       "    <tr>\n",
       "      <th>38234</th>\n",
       "      <td>대승 불교의 세계</td>\n",
       "      <td>\\n\\r\\n저자가 대학에서 『대승기신론』을 강의 하면서 일반불자들도 부담 없이 다가...</td>\n",
       "      <td>\\r\\n            계환 저\\r\\n</td>\n",
       "      <td>있는 필요하다고 복잡한 있다 있다 자세한 있다</td>\n",
       "      <td>저자 대학 대승기신론 강의 반불 자 부담 수 대승기신론 소개 생각 집필 책 대승기신...</td>\n",
       "      <td>저자 대학 대승기신론 강의 반불 자 부담 수 대승기신론 소개 생각 집필 책 대승기신...</td>\n",
       "    </tr>\n",
       "  </tbody>\n",
       "</table>\n",
       "<p>38235 rows × 6 columns</p>\n",
       "</div>"
      ],
      "text/plain": [
       "                                                    Name  \\\n",
       "0                                           외눈박이 물고기의 사랑   \n",
       "1                                   지금 알고 있는 걸 그때도 알았더라면   \n",
       "2                                                     연인   \n",
       "3                                                     연인   \n",
       "4                                               섬진강 이야기1   \n",
       "...                                                  ...   \n",
       "38230                               메이즈 러너 일반 케이스 : 블루레이   \n",
       "38231  2020년 정품 - 중학교 영어 2 자습서 (정사열 / 천재교육)(2020년) 20...   \n",
       "38232                                    원어연구해설 4 : 사도행전   \n",
       "38233                                          우리 역사 최전선   \n",
       "38234                                          대승 불교의 세계   \n",
       "\n",
       "                                                   Story  \\\n",
       "0      \\n\\r\\n시인이자 명상가, 번역가로 활동중인 류시화의 두번째 시집. 일상 언어들을...   \n",
       "1      \\n\\r\\n20여 년간 명상과 인간의식 진화에 대한 번역서를 소개하면서 시를 써온 ...   \n",
       "2      \\n\\r\\n우리들 가슴 어딘가에 감추어져 있는 진정한 사랑의 풍경소리를 찾아가는 푸...   \n",
       "3      \\n\\r\\n우리들 가슴 어딘가에 감추어져 있는 진정한 사랑의 풍경소리를 찾아가는 푸...   \n",
       "4      \\n\\r\\n남도 5백 리 길 세 개의 도와 열두 개의 군을 거쳐 지나가며 사람들의 ...   \n",
       "...                                                  ...   \n",
       "38230  \\n\\r\\n- 음성 해설과 HD 화질의 스페셜 피쳐에 한글 자막 지원 & 한글 메뉴...   \n",
       "38231       \\n\\r\\n                                    \\n   \n",
       "38232  \\n\\r\\n646쪽, 신국판, 약간 바랬으나 양호함                  ...   \n",
       "38233  \\n\\r\\n우선 박노자 · 허동현 두 사람은 적이 아니다. 그럼에도 “맞서고 있는 ...   \n",
       "38234  \\n\\r\\n저자가 대학에서 『대승기신론』을 강의 하면서 일반불자들도 부담 없이 다가...   \n",
       "\n",
       "                                                  Author  \\\n",
       "0                                    \\n류시화 저\\r\\n           \n",
       "1                                    \\n류시화 저\\r\\n           \n",
       "2                                    \\n정호승 저\\r\\n           \n",
       "3                                    \\n정호승 저\\r\\n           \n",
       "4                                    \\n김용택 저\\r\\n           \n",
       "...                                                  ...   \n",
       "38230  \\r\\n            감독:웨스 볼 출연:딜런 오브라이언,  토마스 생스터,...   \n",
       "38231                    \\r\\n            정사열\\r\\n           \n",
       "38232                  \\r\\n            번역위원회\\r\\n           \n",
       "38233                                \\n허동현 저\\r\\n           \n",
       "38234                   \\r\\n            계환 저\\r\\n           \n",
       "\n",
       "                                Adj  \\\n",
       "0                    신비한 가볍게 없는 깊어진   \n",
       "1        시를 가득한 다양한 새로운 원하는 새로운 냉정한   \n",
       "2      있는 진정한 만족하지 진정한 깊지만 무겁지만은 있다   \n",
       "3      있는 진정한 만족하지 진정한 깊지만 무겁지만은 있다   \n",
       "4                           아름다운 있다   \n",
       "...                             ...   \n",
       "38230     거대한 독특한 거대한 넘치는 강렬한 탄탄한 미   \n",
       "38231                                 \n",
       "38232                                 \n",
       "38233    아니다 그럼에도 있는 첨예한 격렬한 다를까 있다   \n",
       "38234     있는 필요하다고 복잡한 있다 있다 자세한 있다   \n",
       "\n",
       "                                                    Noun  \\\n",
       "0      시인 이자 명상 번역가 활동 류시화 두번째 시집 일상 언어 사용 세계 빚 그 시 마...   \n",
       "1      여 년 명상 인간 의식 진화 대한 번역 를 소개 온 류시화 사랑 잠언 시집 삶 대한...   \n",
       "2      우리 가슴 어딘가 사랑 풍경 소리 푸른 툭눈 이야기 운주사 풍경 삶 현재 사랑 못 ...   \n",
       "3      우리 가슴 어딘가 사랑 풍경 소리 푸른 툭눈 이야기 운주사 풍경 삶 현재 사랑 못 ...   \n",
       "4      남도 백 리 길 세 개 도 개 군 사람 삶 강 우리 뇌리 가장 강 기억 섬진강 사계...   \n",
       "...                                                  ...   \n",
       "38230  음성 해설 화질 스페셜 피 한글 자막 지원 한글 메뉴 제공 제작 과정 다큐멘터리 감...   \n",
       "38231                                                      \n",
       "38232                                   쪽 국판 약간 바랬으 양호 함   \n",
       "38233  우선 박노자 허동현 두 사람 적 맨 앞 전선 제목 택 것 지금 전 우리 근대 시작 ...   \n",
       "38234  저자 대학 대승기신론 강의 반불 자 부담 수 대승기신론 소개 생각 집필 책 대승기신...   \n",
       "\n",
       "                                                 NounAdj  \n",
       "0      시인 이자 명상 번역가 활동 류시화 두번째 시집 일상 언어 사용 세계 빚 그 시 마...  \n",
       "1      여 년 명상 인간 의식 진화 대한 번역 를 소개 온 류시화 사랑 잠언 시집 삶 대한...  \n",
       "2      우리 가슴 어딘가 사랑 풍경 소리 푸른 툭눈 이야기 운주사 풍경 삶 현재 사랑 못 ...  \n",
       "3      우리 가슴 어딘가 사랑 풍경 소리 푸른 툭눈 이야기 운주사 풍경 삶 현재 사랑 못 ...  \n",
       "4      남도 백 리 길 세 개 도 개 군 사람 삶 강 우리 뇌리 가장 강 기억 섬진강 사계...  \n",
       "...                                                  ...  \n",
       "38230  음성 해설 화질 스페셜 피 한글 자막 지원 한글 메뉴 제공 제작 과정 다큐멘터리 감...  \n",
       "38231                                                     \n",
       "38232                                   쪽 국판 약간 바랬으 양호 함  \n",
       "38233  우선 박노자 허동현 두 사람 적 맨 앞 전선 제목 택 것 지금 전 우리 근대 시작 ...  \n",
       "38234  저자 대학 대승기신론 강의 반불 자 부담 수 대승기신론 소개 생각 집필 책 대승기신...  \n",
       "\n",
       "[38235 rows x 6 columns]"
      ]
     },
     "execution_count": 20,
     "metadata": {},
     "output_type": "execute_result"
    }
   ],
   "source": [
    "df"
   ]
  },
  {
   "cell_type": "code",
   "execution_count": null,
   "metadata": {},
   "outputs": [],
   "source": [
    "# df.to_csv(\"tokenized.csv\")"
   ]
  }
 ],
 "metadata": {
  "kernelspec": {
   "display_name": "Python 3",
   "language": "python",
   "name": "python3"
  },
  "language_info": {
   "codemirror_mode": {
    "name": "ipython",
    "version": 3
   },
   "file_extension": ".py",
   "mimetype": "text/x-python",
   "name": "python",
   "nbconvert_exporter": "python",
   "pygments_lexer": "ipython3",
   "version": "3.6.1"
  }
 },
 "nbformat": 4,
 "nbformat_minor": 4
}
